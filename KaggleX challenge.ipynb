{
 "cells": [
  {
   "cell_type": "code",
   "execution_count": 1,
   "metadata": {},
   "outputs": [],
   "source": [
    "# Import libraries \n",
    "import numpy as np \n",
    "import pandas as pd\n",
    "from sklearn.model_selection import train_test_split\n",
    "from sklearn.linear_model import LinearRegression\n",
    "from sklearn.ensemble import RandomForestRegressor\n",
    "from sklearn.metrics import mean_squared_error, r2_score\n",
    "import matplotlib.pyplot as plt\n",
    "import pandas as pd\n",
    "import warnings\n",
    "\n",
    "# Suppress all warnings \n",
    "warnings.filterwarnings(\"ignore\")\n"
   ]
  },
  {
   "cell_type": "code",
   "execution_count": 2,
   "metadata": {},
   "outputs": [],
   "source": [
    "train_data = pd.read_csv(\"./data/train.csv\")"
   ]
  },
  {
   "cell_type": "code",
   "execution_count": 3,
   "metadata": {},
   "outputs": [
    {
     "data": {
      "text/html": [
       "<div>\n",
       "<style scoped>\n",
       "    .dataframe tbody tr th:only-of-type {\n",
       "        vertical-align: middle;\n",
       "    }\n",
       "\n",
       "    .dataframe tbody tr th {\n",
       "        vertical-align: top;\n",
       "    }\n",
       "\n",
       "    .dataframe thead th {\n",
       "        text-align: right;\n",
       "    }\n",
       "</style>\n",
       "<table border=\"1\" class=\"dataframe\">\n",
       "  <thead>\n",
       "    <tr style=\"text-align: right;\">\n",
       "      <th></th>\n",
       "      <th>id</th>\n",
       "      <th>brand</th>\n",
       "      <th>model</th>\n",
       "      <th>model_year</th>\n",
       "      <th>milage</th>\n",
       "      <th>fuel_type</th>\n",
       "      <th>engine</th>\n",
       "      <th>transmission</th>\n",
       "      <th>ext_col</th>\n",
       "      <th>int_col</th>\n",
       "      <th>accident</th>\n",
       "      <th>clean_title</th>\n",
       "      <th>price</th>\n",
       "    </tr>\n",
       "  </thead>\n",
       "  <tbody>\n",
       "    <tr>\n",
       "      <th>0</th>\n",
       "      <td>0</td>\n",
       "      <td>Ford</td>\n",
       "      <td>F-150 Lariat</td>\n",
       "      <td>2018</td>\n",
       "      <td>74349</td>\n",
       "      <td>Gasoline</td>\n",
       "      <td>375.0HP 3.5L V6 Cylinder Engine Gasoline Fuel</td>\n",
       "      <td>10-Speed A/T</td>\n",
       "      <td>Blue</td>\n",
       "      <td>Gray</td>\n",
       "      <td>None reported</td>\n",
       "      <td>Yes</td>\n",
       "      <td>11000</td>\n",
       "    </tr>\n",
       "    <tr>\n",
       "      <th>1</th>\n",
       "      <td>1</td>\n",
       "      <td>BMW</td>\n",
       "      <td>335 i</td>\n",
       "      <td>2007</td>\n",
       "      <td>80000</td>\n",
       "      <td>Gasoline</td>\n",
       "      <td>300.0HP 3.0L Straight 6 Cylinder Engine Gasoli...</td>\n",
       "      <td>6-Speed M/T</td>\n",
       "      <td>Black</td>\n",
       "      <td>Black</td>\n",
       "      <td>None reported</td>\n",
       "      <td>Yes</td>\n",
       "      <td>8250</td>\n",
       "    </tr>\n",
       "    <tr>\n",
       "      <th>2</th>\n",
       "      <td>2</td>\n",
       "      <td>Jaguar</td>\n",
       "      <td>XF Luxury</td>\n",
       "      <td>2009</td>\n",
       "      <td>91491</td>\n",
       "      <td>Gasoline</td>\n",
       "      <td>300.0HP 4.2L 8 Cylinder Engine Gasoline Fuel</td>\n",
       "      <td>6-Speed A/T</td>\n",
       "      <td>Purple</td>\n",
       "      <td>Beige</td>\n",
       "      <td>None reported</td>\n",
       "      <td>Yes</td>\n",
       "      <td>15000</td>\n",
       "    </tr>\n",
       "    <tr>\n",
       "      <th>3</th>\n",
       "      <td>3</td>\n",
       "      <td>BMW</td>\n",
       "      <td>X7 xDrive40i</td>\n",
       "      <td>2022</td>\n",
       "      <td>2437</td>\n",
       "      <td>Hybrid</td>\n",
       "      <td>335.0HP 3.0L Straight 6 Cylinder Engine Gasoli...</td>\n",
       "      <td>Transmission w/Dual Shift Mode</td>\n",
       "      <td>Gray</td>\n",
       "      <td>Brown</td>\n",
       "      <td>None reported</td>\n",
       "      <td>Yes</td>\n",
       "      <td>63500</td>\n",
       "    </tr>\n",
       "    <tr>\n",
       "      <th>4</th>\n",
       "      <td>4</td>\n",
       "      <td>Pontiac</td>\n",
       "      <td>Firebird Base</td>\n",
       "      <td>2001</td>\n",
       "      <td>111000</td>\n",
       "      <td>Gasoline</td>\n",
       "      <td>200.0HP 3.8L V6 Cylinder Engine Gasoline Fuel</td>\n",
       "      <td>A/T</td>\n",
       "      <td>White</td>\n",
       "      <td>Black</td>\n",
       "      <td>None reported</td>\n",
       "      <td>Yes</td>\n",
       "      <td>7850</td>\n",
       "    </tr>\n",
       "  </tbody>\n",
       "</table>\n",
       "</div>"
      ],
      "text/plain": [
       "   id    brand          model  model_year  milage fuel_type  \\\n",
       "0   0     Ford   F-150 Lariat        2018   74349  Gasoline   \n",
       "1   1      BMW          335 i        2007   80000  Gasoline   \n",
       "2   2   Jaguar      XF Luxury        2009   91491  Gasoline   \n",
       "3   3      BMW   X7 xDrive40i        2022    2437    Hybrid   \n",
       "4   4  Pontiac  Firebird Base        2001  111000  Gasoline   \n",
       "\n",
       "                                              engine  \\\n",
       "0      375.0HP 3.5L V6 Cylinder Engine Gasoline Fuel   \n",
       "1  300.0HP 3.0L Straight 6 Cylinder Engine Gasoli...   \n",
       "2       300.0HP 4.2L 8 Cylinder Engine Gasoline Fuel   \n",
       "3  335.0HP 3.0L Straight 6 Cylinder Engine Gasoli...   \n",
       "4      200.0HP 3.8L V6 Cylinder Engine Gasoline Fuel   \n",
       "\n",
       "                     transmission ext_col int_col       accident clean_title  \\\n",
       "0                    10-Speed A/T    Blue    Gray  None reported         Yes   \n",
       "1                     6-Speed M/T   Black   Black  None reported         Yes   \n",
       "2                     6-Speed A/T  Purple   Beige  None reported         Yes   \n",
       "3  Transmission w/Dual Shift Mode    Gray   Brown  None reported         Yes   \n",
       "4                             A/T   White   Black  None reported         Yes   \n",
       "\n",
       "   price  \n",
       "0  11000  \n",
       "1   8250  \n",
       "2  15000  \n",
       "3  63500  \n",
       "4   7850  "
      ]
     },
     "execution_count": 3,
     "metadata": {},
     "output_type": "execute_result"
    }
   ],
   "source": [
    "train_data.head()"
   ]
  },
  {
   "cell_type": "code",
   "execution_count": 4,
   "metadata": {},
   "outputs": [
    {
     "name": "stdout",
     "output_type": "stream",
     "text": [
      "<class 'pandas.core.frame.DataFrame'>\n",
      "RangeIndex: 54273 entries, 0 to 54272\n",
      "Data columns (total 13 columns):\n",
      " #   Column        Non-Null Count  Dtype \n",
      "---  ------        --------------  ----- \n",
      " 0   id            54273 non-null  int64 \n",
      " 1   brand         54273 non-null  object\n",
      " 2   model         54273 non-null  object\n",
      " 3   model_year    54273 non-null  int64 \n",
      " 4   milage        54273 non-null  int64 \n",
      " 5   fuel_type     54273 non-null  object\n",
      " 6   engine        54273 non-null  object\n",
      " 7   transmission  54273 non-null  object\n",
      " 8   ext_col       54273 non-null  object\n",
      " 9   int_col       54273 non-null  object\n",
      " 10  accident      54273 non-null  object\n",
      " 11  clean_title   54273 non-null  object\n",
      " 12  price         54273 non-null  int64 \n",
      "dtypes: int64(4), object(9)\n",
      "memory usage: 5.4+ MB\n"
     ]
    }
   ],
   "source": [
    "train_data.info()"
   ]
  },
  {
   "cell_type": "code",
   "execution_count": 6,
   "metadata": {},
   "outputs": [],
   "source": [
    "train_data = train_data.drop(\"id\", axis=1)"
   ]
  },
  {
   "cell_type": "code",
   "execution_count": 7,
   "metadata": {},
   "outputs": [
    {
     "data": {
      "text/plain": [
       "(54273, 12)"
      ]
     },
     "execution_count": 7,
     "metadata": {},
     "output_type": "execute_result"
    }
   ],
   "source": [
    "train_data.shape"
   ]
  },
  {
   "cell_type": "code",
   "execution_count": 8,
   "metadata": {},
   "outputs": [
    {
     "data": {
      "text/plain": [
       "brand           0\n",
       "model           0\n",
       "model_year      0\n",
       "milage          0\n",
       "fuel_type       0\n",
       "engine          0\n",
       "transmission    0\n",
       "ext_col         0\n",
       "int_col         0\n",
       "accident        0\n",
       "clean_title     0\n",
       "price           0\n",
       "dtype: int64"
      ]
     },
     "execution_count": 8,
     "metadata": {},
     "output_type": "execute_result"
    }
   ],
   "source": [
    "train_data.isnull().sum()"
   ]
  },
  {
   "cell_type": "code",
   "execution_count": 9,
   "metadata": {},
   "outputs": [],
   "source": [
    "# drop model column\n",
    "train_data = train_data.drop(\"model\", axis=1)"
   ]
  },
  {
   "cell_type": "code",
   "execution_count": 10,
   "metadata": {},
   "outputs": [
    {
     "data": {
      "text/html": [
       "<div>\n",
       "<style scoped>\n",
       "    .dataframe tbody tr th:only-of-type {\n",
       "        vertical-align: middle;\n",
       "    }\n",
       "\n",
       "    .dataframe tbody tr th {\n",
       "        vertical-align: top;\n",
       "    }\n",
       "\n",
       "    .dataframe thead th {\n",
       "        text-align: right;\n",
       "    }\n",
       "</style>\n",
       "<table border=\"1\" class=\"dataframe\">\n",
       "  <thead>\n",
       "    <tr style=\"text-align: right;\">\n",
       "      <th></th>\n",
       "      <th>brand</th>\n",
       "      <th>model_year</th>\n",
       "      <th>milage</th>\n",
       "      <th>fuel_type</th>\n",
       "      <th>engine</th>\n",
       "      <th>transmission</th>\n",
       "      <th>ext_col</th>\n",
       "      <th>int_col</th>\n",
       "      <th>accident</th>\n",
       "      <th>clean_title</th>\n",
       "      <th>price</th>\n",
       "    </tr>\n",
       "  </thead>\n",
       "  <tbody>\n",
       "    <tr>\n",
       "      <th>0</th>\n",
       "      <td>Ford</td>\n",
       "      <td>2018</td>\n",
       "      <td>74349</td>\n",
       "      <td>Gasoline</td>\n",
       "      <td>375.0HP 3.5L V6 Cylinder Engine Gasoline Fuel</td>\n",
       "      <td>10-Speed A/T</td>\n",
       "      <td>Blue</td>\n",
       "      <td>Gray</td>\n",
       "      <td>None reported</td>\n",
       "      <td>Yes</td>\n",
       "      <td>11000</td>\n",
       "    </tr>\n",
       "    <tr>\n",
       "      <th>1</th>\n",
       "      <td>BMW</td>\n",
       "      <td>2007</td>\n",
       "      <td>80000</td>\n",
       "      <td>Gasoline</td>\n",
       "      <td>300.0HP 3.0L Straight 6 Cylinder Engine Gasoli...</td>\n",
       "      <td>6-Speed M/T</td>\n",
       "      <td>Black</td>\n",
       "      <td>Black</td>\n",
       "      <td>None reported</td>\n",
       "      <td>Yes</td>\n",
       "      <td>8250</td>\n",
       "    </tr>\n",
       "    <tr>\n",
       "      <th>2</th>\n",
       "      <td>Jaguar</td>\n",
       "      <td>2009</td>\n",
       "      <td>91491</td>\n",
       "      <td>Gasoline</td>\n",
       "      <td>300.0HP 4.2L 8 Cylinder Engine Gasoline Fuel</td>\n",
       "      <td>6-Speed A/T</td>\n",
       "      <td>Purple</td>\n",
       "      <td>Beige</td>\n",
       "      <td>None reported</td>\n",
       "      <td>Yes</td>\n",
       "      <td>15000</td>\n",
       "    </tr>\n",
       "    <tr>\n",
       "      <th>3</th>\n",
       "      <td>BMW</td>\n",
       "      <td>2022</td>\n",
       "      <td>2437</td>\n",
       "      <td>Hybrid</td>\n",
       "      <td>335.0HP 3.0L Straight 6 Cylinder Engine Gasoli...</td>\n",
       "      <td>Transmission w/Dual Shift Mode</td>\n",
       "      <td>Gray</td>\n",
       "      <td>Brown</td>\n",
       "      <td>None reported</td>\n",
       "      <td>Yes</td>\n",
       "      <td>63500</td>\n",
       "    </tr>\n",
       "    <tr>\n",
       "      <th>4</th>\n",
       "      <td>Pontiac</td>\n",
       "      <td>2001</td>\n",
       "      <td>111000</td>\n",
       "      <td>Gasoline</td>\n",
       "      <td>200.0HP 3.8L V6 Cylinder Engine Gasoline Fuel</td>\n",
       "      <td>A/T</td>\n",
       "      <td>White</td>\n",
       "      <td>Black</td>\n",
       "      <td>None reported</td>\n",
       "      <td>Yes</td>\n",
       "      <td>7850</td>\n",
       "    </tr>\n",
       "  </tbody>\n",
       "</table>\n",
       "</div>"
      ],
      "text/plain": [
       "     brand  model_year  milage fuel_type  \\\n",
       "0     Ford        2018   74349  Gasoline   \n",
       "1      BMW        2007   80000  Gasoline   \n",
       "2   Jaguar        2009   91491  Gasoline   \n",
       "3      BMW        2022    2437    Hybrid   \n",
       "4  Pontiac        2001  111000  Gasoline   \n",
       "\n",
       "                                              engine  \\\n",
       "0      375.0HP 3.5L V6 Cylinder Engine Gasoline Fuel   \n",
       "1  300.0HP 3.0L Straight 6 Cylinder Engine Gasoli...   \n",
       "2       300.0HP 4.2L 8 Cylinder Engine Gasoline Fuel   \n",
       "3  335.0HP 3.0L Straight 6 Cylinder Engine Gasoli...   \n",
       "4      200.0HP 3.8L V6 Cylinder Engine Gasoline Fuel   \n",
       "\n",
       "                     transmission ext_col int_col       accident clean_title  \\\n",
       "0                    10-Speed A/T    Blue    Gray  None reported         Yes   \n",
       "1                     6-Speed M/T   Black   Black  None reported         Yes   \n",
       "2                     6-Speed A/T  Purple   Beige  None reported         Yes   \n",
       "3  Transmission w/Dual Shift Mode    Gray   Brown  None reported         Yes   \n",
       "4                             A/T   White   Black  None reported         Yes   \n",
       "\n",
       "   price  \n",
       "0  11000  \n",
       "1   8250  \n",
       "2  15000  \n",
       "3  63500  \n",
       "4   7850  "
      ]
     },
     "execution_count": 10,
     "metadata": {},
     "output_type": "execute_result"
    }
   ],
   "source": [
    "train_data.head()"
   ]
  },
  {
   "cell_type": "code",
   "execution_count": 11,
   "metadata": {},
   "outputs": [
    {
     "data": {
      "text/plain": [
       "array(['Gasoline', 'Hybrid', 'E85 Flex Fuel', 'Diesel', '–',\n",
       "       'Plug-In Hybrid', 'not supported'], dtype=object)"
      ]
     },
     "execution_count": 11,
     "metadata": {},
     "output_type": "execute_result"
    }
   ],
   "source": [
    "train_data.fuel_type.unique()"
   ]
  },
  {
   "cell_type": "code",
   "execution_count": 16,
   "metadata": {},
   "outputs": [],
   "source": [
    "# Replace '-' and notsupported values in fuel_type with 'Electric'\n",
    "train_data.fuel_type.replace('–', 'Electric', inplace=True)\n",
    "\n",
    "train_data.fuel_type.replace('not supported', 'Electric', inplace=True)"
   ]
  },
  {
   "cell_type": "code",
   "execution_count": 17,
   "metadata": {},
   "outputs": [
    {
     "data": {
      "text/plain": [
       "fuel_type\n",
       "Gasoline          49439\n",
       "Hybrid             1766\n",
       "E85 Flex Fuel      1479\n",
       "Diesel             1109\n",
       "Electric            298\n",
       "Plug-In Hybrid      182\n",
       "Name: count, dtype: int64"
      ]
     },
     "execution_count": 17,
     "metadata": {},
     "output_type": "execute_result"
    }
   ],
   "source": [
    "train_data.fuel_type.value_counts()"
   ]
  },
  {
   "cell_type": "code",
   "execution_count": 18,
   "metadata": {},
   "outputs": [],
   "source": [
    "import re\n",
    "# Define a function to extract engine attributes\n",
    "\n",
    "def extract_engine_features(engine_str):\n",
    "    # Extract displacement\n",
    "    displacement = re.search(r\"(\\d+\\.\\d+)L\", engine_str)\n",
    "    engine_displacement = float(displacement.group(1)) if displacement else None\n",
    "\n",
    "    # Extract horsepower\n",
    "    horsepower = re.search(r\"(\\d+\\.\\d+)HP\", engine_str)\n",
    "    engine_horsepower = float(horsepower.group(1)) if horsepower else None\n",
    "\n",
    "    # # Extract number of cylinders\n",
    "    # num_cylinders = re.search(r\"\\d+\\s?Cylinder\", engine_str)\n",
    "    # num_cylinders = int(num_cylinders.group().split()[0]) if num_cylinders else None\n",
    "\n",
    "    # # Extract cylinder configuration\n",
    "    # cylinder_config = \"V\" if \"V\" in engine_str else \"Straight\" if \"Straight\" in engine_str else None\n",
    "\n",
    "    # # # Extract fuel type\n",
    "    # # fuel_type = re.search(r\"(Gasoline|Diesel|Electric|Flex Fuel)\", engine_str)\n",
    "    # # fuel_type = fuel_type.group(1) if fuel_type else None\n",
    "\n",
    "    return engine_displacement, engine_horsepower #, num_cylinders, cylinder_config"
   ]
  },
  {
   "cell_type": "code",
   "execution_count": 19,
   "metadata": {},
   "outputs": [],
   "source": [
    "# Create two new features from the engine column \n",
    "train_data[['horsepower', 'engine_displacement']] = train_data.engine.apply(extract_engine_features).apply(pd.Series)"
   ]
  },
  {
   "cell_type": "code",
   "execution_count": 20,
   "metadata": {},
   "outputs": [
    {
     "data": {
      "text/html": [
       "<div>\n",
       "<style scoped>\n",
       "    .dataframe tbody tr th:only-of-type {\n",
       "        vertical-align: middle;\n",
       "    }\n",
       "\n",
       "    .dataframe tbody tr th {\n",
       "        vertical-align: top;\n",
       "    }\n",
       "\n",
       "    .dataframe thead th {\n",
       "        text-align: right;\n",
       "    }\n",
       "</style>\n",
       "<table border=\"1\" class=\"dataframe\">\n",
       "  <thead>\n",
       "    <tr style=\"text-align: right;\">\n",
       "      <th></th>\n",
       "      <th>brand</th>\n",
       "      <th>model_year</th>\n",
       "      <th>milage</th>\n",
       "      <th>fuel_type</th>\n",
       "      <th>engine</th>\n",
       "      <th>transmission</th>\n",
       "      <th>ext_col</th>\n",
       "      <th>int_col</th>\n",
       "      <th>accident</th>\n",
       "      <th>clean_title</th>\n",
       "      <th>price</th>\n",
       "      <th>horsepower</th>\n",
       "      <th>engine_displacement</th>\n",
       "    </tr>\n",
       "  </thead>\n",
       "  <tbody>\n",
       "    <tr>\n",
       "      <th>0</th>\n",
       "      <td>Ford</td>\n",
       "      <td>2018</td>\n",
       "      <td>74349</td>\n",
       "      <td>Gasoline</td>\n",
       "      <td>375.0HP 3.5L V6 Cylinder Engine Gasoline Fuel</td>\n",
       "      <td>10-Speed A/T</td>\n",
       "      <td>Blue</td>\n",
       "      <td>Gray</td>\n",
       "      <td>None reported</td>\n",
       "      <td>Yes</td>\n",
       "      <td>11000</td>\n",
       "      <td>3.5</td>\n",
       "      <td>375.0</td>\n",
       "    </tr>\n",
       "    <tr>\n",
       "      <th>1</th>\n",
       "      <td>BMW</td>\n",
       "      <td>2007</td>\n",
       "      <td>80000</td>\n",
       "      <td>Gasoline</td>\n",
       "      <td>300.0HP 3.0L Straight 6 Cylinder Engine Gasoli...</td>\n",
       "      <td>6-Speed M/T</td>\n",
       "      <td>Black</td>\n",
       "      <td>Black</td>\n",
       "      <td>None reported</td>\n",
       "      <td>Yes</td>\n",
       "      <td>8250</td>\n",
       "      <td>3.0</td>\n",
       "      <td>300.0</td>\n",
       "    </tr>\n",
       "    <tr>\n",
       "      <th>2</th>\n",
       "      <td>Jaguar</td>\n",
       "      <td>2009</td>\n",
       "      <td>91491</td>\n",
       "      <td>Gasoline</td>\n",
       "      <td>300.0HP 4.2L 8 Cylinder Engine Gasoline Fuel</td>\n",
       "      <td>6-Speed A/T</td>\n",
       "      <td>Purple</td>\n",
       "      <td>Beige</td>\n",
       "      <td>None reported</td>\n",
       "      <td>Yes</td>\n",
       "      <td>15000</td>\n",
       "      <td>4.2</td>\n",
       "      <td>300.0</td>\n",
       "    </tr>\n",
       "    <tr>\n",
       "      <th>3</th>\n",
       "      <td>BMW</td>\n",
       "      <td>2022</td>\n",
       "      <td>2437</td>\n",
       "      <td>Hybrid</td>\n",
       "      <td>335.0HP 3.0L Straight 6 Cylinder Engine Gasoli...</td>\n",
       "      <td>Transmission w/Dual Shift Mode</td>\n",
       "      <td>Gray</td>\n",
       "      <td>Brown</td>\n",
       "      <td>None reported</td>\n",
       "      <td>Yes</td>\n",
       "      <td>63500</td>\n",
       "      <td>3.0</td>\n",
       "      <td>335.0</td>\n",
       "    </tr>\n",
       "    <tr>\n",
       "      <th>4</th>\n",
       "      <td>Pontiac</td>\n",
       "      <td>2001</td>\n",
       "      <td>111000</td>\n",
       "      <td>Gasoline</td>\n",
       "      <td>200.0HP 3.8L V6 Cylinder Engine Gasoline Fuel</td>\n",
       "      <td>A/T</td>\n",
       "      <td>White</td>\n",
       "      <td>Black</td>\n",
       "      <td>None reported</td>\n",
       "      <td>Yes</td>\n",
       "      <td>7850</td>\n",
       "      <td>3.8</td>\n",
       "      <td>200.0</td>\n",
       "    </tr>\n",
       "  </tbody>\n",
       "</table>\n",
       "</div>"
      ],
      "text/plain": [
       "     brand  model_year  milage fuel_type  \\\n",
       "0     Ford        2018   74349  Gasoline   \n",
       "1      BMW        2007   80000  Gasoline   \n",
       "2   Jaguar        2009   91491  Gasoline   \n",
       "3      BMW        2022    2437    Hybrid   \n",
       "4  Pontiac        2001  111000  Gasoline   \n",
       "\n",
       "                                              engine  \\\n",
       "0      375.0HP 3.5L V6 Cylinder Engine Gasoline Fuel   \n",
       "1  300.0HP 3.0L Straight 6 Cylinder Engine Gasoli...   \n",
       "2       300.0HP 4.2L 8 Cylinder Engine Gasoline Fuel   \n",
       "3  335.0HP 3.0L Straight 6 Cylinder Engine Gasoli...   \n",
       "4      200.0HP 3.8L V6 Cylinder Engine Gasoline Fuel   \n",
       "\n",
       "                     transmission ext_col int_col       accident clean_title  \\\n",
       "0                    10-Speed A/T    Blue    Gray  None reported         Yes   \n",
       "1                     6-Speed M/T   Black   Black  None reported         Yes   \n",
       "2                     6-Speed A/T  Purple   Beige  None reported         Yes   \n",
       "3  Transmission w/Dual Shift Mode    Gray   Brown  None reported         Yes   \n",
       "4                             A/T   White   Black  None reported         Yes   \n",
       "\n",
       "   price  horsepower  engine_displacement  \n",
       "0  11000         3.5                375.0  \n",
       "1   8250         3.0                300.0  \n",
       "2  15000         4.2                300.0  \n",
       "3  63500         3.0                335.0  \n",
       "4   7850         3.8                200.0  "
      ]
     },
     "execution_count": 20,
     "metadata": {},
     "output_type": "execute_result"
    }
   ],
   "source": [
    "train_data.head()"
   ]
  },
  {
   "cell_type": "code",
   "execution_count": 21,
   "metadata": {},
   "outputs": [
    {
     "data": {
      "text/plain": [
       "606"
      ]
     },
     "execution_count": 21,
     "metadata": {},
     "output_type": "execute_result"
    }
   ],
   "source": [
    "train_data.horsepower.isnull().sum()"
   ]
  },
  {
   "cell_type": "code",
   "execution_count": null,
   "metadata": {},
   "outputs": [],
   "source": []
  }
 ],
 "metadata": {
  "kernelspec": {
   "display_name": "base",
   "language": "python",
   "name": "python3"
  },
  "language_info": {
   "codemirror_mode": {
    "name": "ipython",
    "version": 3
   },
   "file_extension": ".py",
   "mimetype": "text/x-python",
   "name": "python",
   "nbconvert_exporter": "python",
   "pygments_lexer": "ipython3",
   "version": "3.11.5"
  }
 },
 "nbformat": 4,
 "nbformat_minor": 2
}
